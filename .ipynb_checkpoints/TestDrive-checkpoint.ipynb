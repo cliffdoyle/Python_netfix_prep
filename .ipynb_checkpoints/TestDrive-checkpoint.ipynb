{
 "cells": [
  {
   "cell_type": "code",
   "execution_count": null,
   "id": "8237b00d-6590-45f9-b062-016bcc3e7574",
   "metadata": {},
   "outputs": [],
   "source": [
    "455**23\n"
   ]
  },
  {
   "cell_type": "code",
   "execution_count": null,
   "id": "76a34fa2-5ad1-4a46-a770-49823930e29a",
   "metadata": {},
   "outputs": [],
   "source": [
    "while True:\n",
    "    print(\"Finally I'm here\")\n",
    "    break"
   ]
  },
  {
   "cell_type": "code",
   "execution_count": null,
   "id": "3e665972-b66e-429e-9222-7f9887e3220a",
   "metadata": {},
   "outputs": [],
   "source": []
  }
 ],
 "metadata": {
  "kernelspec": {
   "display_name": "Python 3 (ipykernel)",
   "language": "python",
   "name": "python3"
  },
  "language_info": {
   "codemirror_mode": {
    "name": "ipython",
    "version": 3
   },
   "file_extension": ".py",
   "mimetype": "text/x-python",
   "name": "python",
   "nbconvert_exporter": "python",
   "pygments_lexer": "ipython3",
   "version": "3.12.2"
  }
 },
 "nbformat": 4,
 "nbformat_minor": 5
}
